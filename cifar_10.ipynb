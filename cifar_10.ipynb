{
  "nbformat": 4,
  "nbformat_minor": 0,
  "metadata": {
    "colab": {
      "name": "cifar_10.ipynb",
      "provenance": [],
      "collapsed_sections": []
    },
    "kernelspec": {
      "name": "python3",
      "display_name": "Python 3"
    },
    "language_info": {
      "name": "python"
    },
    "accelerator": "GPU"
  },
  "cells": [
    {
      "cell_type": "code",
      "execution_count": 3,
      "metadata": {
        "id": "IHv4gsOEYPz2"
      },
      "outputs": [],
      "source": [
        "import numpy as np\n",
        "import pandas as pd\n",
        "import matplotlib.pyplot as plt\n",
        "import tensorflow\n",
        "import warnings\n",
        "warnings.filterwarnings('ignore')"
      ]
    },
    {
      "cell_type": "code",
      "source": [
        "from tensorflow.keras.datasets import cifar10\n",
        "from tensorflow.keras.models import Sequential\n",
        "from tensorflow.keras.layers import Dense, Dropout, Conv2D, MaxPool2D, Flatten\n",
        "from tensorflow.keras.callbacks import EarlyStopping"
      ],
      "metadata": {
        "id": "CJZ7zuf7Ybuo"
      },
      "execution_count": 4,
      "outputs": []
    },
    {
      "cell_type": "code",
      "source": [
        "(X_train, y_train), (X_test, y_test) = cifar10.load_data()"
      ],
      "metadata": {
        "colab": {
          "base_uri": "https://localhost:8080/"
        },
        "id": "Z8-dj7v5ZXAP",
        "outputId": "7a847910-8c88-4cff-d546-13e77aa595ec"
      },
      "execution_count": 5,
      "outputs": [
        {
          "output_type": "stream",
          "name": "stdout",
          "text": [
            "Downloading data from https://www.cs.toronto.edu/~kriz/cifar-10-python.tar.gz\n",
            "170500096/170498071 [==============================] - 2s 0us/step\n",
            "170508288/170498071 [==============================] - 2s 0us/step\n"
          ]
        }
      ]
    },
    {
      "cell_type": "code",
      "source": [
        "plt.imshow(X_train[0])"
      ],
      "metadata": {
        "colab": {
          "base_uri": "https://localhost:8080/",
          "height": 283
        },
        "id": "hu1wLMlfZpen",
        "outputId": "ca986203-c86b-4765-86f6-bb75d2fc25b0"
      },
      "execution_count": 6,
      "outputs": [
        {
          "output_type": "execute_result",
          "data": {
            "text/plain": [
              "<matplotlib.image.AxesImage at 0x7f09d3cfda90>"
            ]
          },
          "metadata": {},
          "execution_count": 6
        },
        {
          "output_type": "display_data",
          "data": {
            "image/png": "[encoded data removed]",
            "text/plain": [
              "<Figure size 432x288 with 1 Axes>"
            ]
          },
          "metadata": {
            "needs_background": "light"
          }
        }
      ]
    },
    {
      "cell_type": "code",
      "source": [
        "classes = ['airplane', 'automobile', 'bird', 'cat', 'deer', 'dog', 'frog', 'horse', 'ship', 'truck']"
      ],
      "metadata": {
        "id": "XxhF9l1mZu2_"
      },
      "execution_count": 7,
      "outputs": []
    },
    {
      "cell_type": "code",
      "source": [
        "classes[y_train[0][0]]"
      ],
      "metadata": {
        "colab": {
          "base_uri": "https://localhost:8080/",
          "height": 35
        },
        "id": "FisZXtxeacBB",
        "outputId": "cecf506b-c652-4a53-d4e9-da050fec4a5f"
      },
      "execution_count": 10,
      "outputs": [
        {
          "output_type": "execute_result",
          "data": {
            "application/vnd.google.colaboratory.intrinsic+json": {
              "type": "string"
            },
            "text/plain": [
              "'frog'"
            ]
          },
          "metadata": {},
          "execution_count": 10
        }
      ]
    },
    {
      "cell_type": "code",
      "source": [
        "X_train.shape"
      ],
      "metadata": {
        "colab": {
          "base_uri": "https://localhost:8080/"
        },
        "id": "uskaIzIjajwE",
        "outputId": "5b776c4d-4f27-4d14-e832-90e6140ea5bb"
      },
      "execution_count": 11,
      "outputs": [
        {
          "output_type": "execute_result",
          "data": {
            "text/plain": [
              "(50000, 32, 32, 3)"
            ]
          },
          "metadata": {},
          "execution_count": 11
        }
      ]
    },
    {
      "cell_type": "code",
      "source": [
        "X_train, X_test = X_train/255, X_test/255"
      ],
      "metadata": {
        "id": "ylm3SbBsanbz"
      },
      "execution_count": 12,
      "outputs": []
    },
    {
      "cell_type": "code",
      "source": [
        "X_train.max()"
      ],
      "metadata": {
        "colab": {
          "base_uri": "https://localhost:8080/"
        },
        "id": "YPEXFdBua6ek",
        "outputId": "c5dfcd97-cb4d-4d78-f7e4-7f7627421e83"
      },
      "execution_count": 13,
      "outputs": [
        {
          "output_type": "execute_result",
          "data": {
            "text/plain": [
              "1.0"
            ]
          },
          "metadata": {},
          "execution_count": 13
        }
      ]
    },
    {
      "cell_type": "code",
      "source": [
        "model = Sequential()\n",
        "#Convolution layers\n",
        "model.add(Conv2D(filters=32, kernel_size=(2, 2), strides=(1, 1), activation='relu', kernel_initializer='he_uniform'))\n",
        "model.add(MaxPool2D())\n",
        "\n",
        "model.add(Conv2D(filters=64, kernel_size=(2, 2), strides=(1, 1), activation='relu', kernel_initializer='he_uniform'))\n",
        "model.add(MaxPool2D())\n",
        "\n",
        "model.add(Conv2D(filters=128, kernel_size=(2, 2), strides=(1, 1), activation='relu', kernel_initializer='he_uniform'))\n",
        "model.add(MaxPool2D())\n",
        "\n",
        "model.add(Flatten())\n",
        "\n",
        "#hidden layers\n",
        "model.add(Dense(128, activation='sigmoid',))\n",
        "model.add(Dropout(0.4))\n",
        "\n",
        "model.add(Dense(64, activation='relu', kernel_initializer='he_uniform'))\n",
        "model.add(Dropout(0.4))\n",
        "\n",
        "model.add(Dense(32, activation='relu', kernel_initializer='he_uniform'))\n",
        "model.add(Dropout(0.4))\n",
        "\n",
        "#output layer\n",
        "model.add(Dense(10, activation='softmax'))"
      ],
      "metadata": {
        "id": "oIGoc2f7a8bK"
      },
      "execution_count": 37,
      "outputs": []
    },
    {
      "cell_type": "code",
      "source": [
        "early_stop = EarlyStopping(monitor='val_loss', patience=5, verbose=1)"
      ],
      "metadata": {
        "id": "OCRXj76SdAaM"
      },
      "execution_count": 38,
      "outputs": []
    },
    {
      "cell_type": "code",
      "source": [
        "model.compile(optimizer='adam', loss='sparse_categorical_crossentropy', metrics=['accuracy'], )"
      ],
      "metadata": {
        "id": "FFNRi91ocu92"
      },
      "execution_count": 39,
      "outputs": []
    },
    {
      "cell_type": "code",
      "source": [
        "model.fit(X_train, y_train, epochs=100, callbacks=[early_stop], validation_data=(X_test, y_test), batch_size=32, validation_batch_size=32)"
      ],
      "metadata": {
        "colab": {
          "base_uri": "https://localhost:8080/"
        },
        "id": "UxmwigdrdRrB",
        "outputId": "cf808484-e3d0-43a6-db36-888e2bae7594"
      },
      "execution_count": 40,
      "outputs": [
        {
          "output_type": "stream",
          "name": "stdout",
          "text": [
            "Epoch 1/100\n",
            "1563/1563 [==============================] - 16s 10ms/step - loss: 2.0417 - accuracy: 0.2097 - val_loss: 1.5763 - val_accuracy: 0.4000\n",
            "Epoch 2/100\n",
            "1563/1563 [==============================] - 15s 9ms/step - loss: 1.6071 - accuracy: 0.4017 - val_loss: 1.3919 - val_accuracy: 0.4828\n",
            "Epoch 3/100\n",
            "1563/1563 [==============================] - 15s 10ms/step - loss: 1.4094 - accuracy: 0.4920 - val_loss: 1.1739 - val_accuracy: 0.5773\n",
            "Epoch 4/100\n",
            "1563/1563 [==============================] - 15s 10ms/step - loss: 1.2734 - accuracy: 0.5529 - val_loss: 1.1573 - val_accuracy: 0.5902\n",
            "Epoch 5/100\n",
            "1563/1563 [==============================] - 15s 10ms/step - loss: 1.1772 - accuracy: 0.5950 - val_loss: 1.0439 - val_accuracy: 0.6329\n",
            "Epoch 6/100\n",
            "1563/1563 [==============================] - 14s 9ms/step - loss: 1.0966 - accuracy: 0.6250 - val_loss: 1.0025 - val_accuracy: 0.6464\n",
            "Epoch 7/100\n",
            "1563/1563 [==============================] - 15s 10ms/step - loss: 1.0330 - accuracy: 0.6541 - val_loss: 0.9367 - val_accuracy: 0.6812\n",
            "Epoch 8/100\n",
            "1563/1563 [==============================] - 15s 9ms/step - loss: 0.9728 - accuracy: 0.6767 - val_loss: 0.9335 - val_accuracy: 0.6842\n",
            "Epoch 9/100\n",
            "1563/1563 [==============================] - 15s 9ms/step - loss: 0.9268 - accuracy: 0.6926 - val_loss: 0.9142 - val_accuracy: 0.6965\n",
            "Epoch 10/100\n",
            "1563/1563 [==============================] - 15s 9ms/step - loss: 0.8750 - accuracy: 0.7102 - val_loss: 0.9012 - val_accuracy: 0.7058\n",
            "Epoch 11/100\n",
            "1563/1563 [==============================] - 15s 10ms/step - loss: 0.8435 - accuracy: 0.7256 - val_loss: 0.8744 - val_accuracy: 0.7095\n",
            "Epoch 12/100\n",
            "1563/1563 [==============================] - 14s 9ms/step - loss: 0.8018 - accuracy: 0.7379 - val_loss: 0.8868 - val_accuracy: 0.7122\n",
            "Epoch 13/100\n",
            "1563/1563 [==============================] - 15s 9ms/step - loss: 0.7732 - accuracy: 0.7473 - val_loss: 0.9275 - val_accuracy: 0.7089\n",
            "Epoch 14/100\n",
            "1563/1563 [==============================] - 14s 9ms/step - loss: 0.7519 - accuracy: 0.7571 - val_loss: 0.8780 - val_accuracy: 0.7224\n",
            "Epoch 15/100\n",
            "1563/1563 [==============================] - 15s 9ms/step - loss: 0.7189 - accuracy: 0.7669 - val_loss: 0.8660 - val_accuracy: 0.7305\n",
            "Epoch 16/100\n",
            "1563/1563 [==============================] - 15s 9ms/step - loss: 0.6968 - accuracy: 0.7751 - val_loss: 0.8826 - val_accuracy: 0.7287\n",
            "Epoch 17/100\n",
            "1563/1563 [==============================] - 14s 9ms/step - loss: 0.6772 - accuracy: 0.7792 - val_loss: 0.8753 - val_accuracy: 0.7323\n",
            "Epoch 18/100\n",
            "1563/1563 [==============================] - 15s 9ms/step - loss: 0.6595 - accuracy: 0.7886 - val_loss: 0.9091 - val_accuracy: 0.7284\n",
            "Epoch 19/100\n",
            "1563/1563 [==============================] - 15s 9ms/step - loss: 0.6382 - accuracy: 0.7940 - val_loss: 0.8922 - val_accuracy: 0.7321\n",
            "Epoch 20/100\n",
            "1563/1563 [==============================] - 14s 9ms/step - loss: 0.6188 - accuracy: 0.8032 - val_loss: 0.9091 - val_accuracy: 0.7356\n",
            "Epoch 20: early stopping\n"
          ]
        },
        {
          "output_type": "execute_result",
          "data": {
            "text/plain": [
              "<keras.callbacks.History at 0x7f095701bf50>"
            ]
          },
          "metadata": {},
          "execution_count": 40
        }
      ]
    },
    {
      "cell_type": "code",
      "source": [
        "model.evaluate(X_test, y_test)"
      ],
      "metadata": {
        "colab": {
          "base_uri": "https://localhost:8080/"
        },
        "id": "HlKYkR6PdzIg",
        "outputId": "1de366d0-479f-463d-bed7-1ef9c5bba293"
      },
      "execution_count": 35,
      "outputs": [
        {
          "output_type": "stream",
          "name": "stdout",
          "text": [
            "313/313 [==============================] - 2s 5ms/step - loss: 0.8697 - accuracy: 0.7322\n"
          ]
        },
        {
          "output_type": "execute_result",
          "data": {
            "text/plain": [
              "[0.8697269558906555, 0.732200026512146]"
            ]
          },
          "metadata": {},
          "execution_count": 35
        }
      ]
    },
    {
      "cell_type": "code",
      "source": [
        "loss = pd.DataFrame(model.history.history)"
      ],
      "metadata": {
        "id": "wy3zh6JZf-0U"
      },
      "execution_count": 42,
      "outputs": []
    },
    {
      "cell_type": "code",
      "source": [
        "loss[['loss', 'val_loss']].plot()"
      ],
      "metadata": {
        "colab": {
          "base_uri": "https://localhost:8080/",
          "height": 282
        },
        "id": "DyWiBCSjgGgs",
        "outputId": "78f37d64-8c83-41b5-8c65-0b8b5e9c189f"
      },
      "execution_count": 43,
      "outputs": [
        {
          "output_type": "execute_result",
          "data": {
            "text/plain": [
              "<matplotlib.axes._subplots.AxesSubplot at 0x7f0958594790>"
            ]
          },
          "metadata": {},
          "execution_count": 43
        },
        {
          "output_type": "display_data",
          "data": {
            "image/png": "[encoded data removed]",
            "text/plain": [
              "<Figure size 432x288 with 1 Axes>"
            ]
          },
          "metadata": {
            "needs_background": "light"
          }
        }
      ]
    },
    {
      "cell_type": "code",
      "source": [
        "loss[['accuracy', 'val_accuracy']].plot()"
      ],
      "metadata": {
        "colab": {
          "base_uri": "https://localhost:8080/",
          "height": 282
        },
        "id": "lcWvMrASgL6N",
        "outputId": "2ca49ebd-6cb5-482e-d82b-58fc8a3baa55"
      },
      "execution_count": 44,
      "outputs": [
        {
          "output_type": "execute_result",
          "data": {
            "text/plain": [
              "<matplotlib.axes._subplots.AxesSubplot at 0x7f09584d50d0>"
            ]
          },
          "metadata": {},
          "execution_count": 44
        },
        {
          "output_type": "display_data",
          "data": {
            "image/png": "[encoded data removed]",
            "text/plain": [
              "<Figure size 432x288 with 1 Axes>"
            ]
          },
          "metadata": {
            "needs_background": "light"
          }
        }
      ]
    },
    {
      "cell_type": "code",
      "source": [
        "pred = model.predict(X_test)"
      ],
      "metadata": {
        "id": "HE4wlB8SiRfX"
      },
      "execution_count": 45,
      "outputs": []
    },
    {
      "cell_type": "code",
      "source": [
        "plt.imshow(X_test[102])"
      ],
      "metadata": {
        "colab": {
          "base_uri": "https://localhost:8080/",
          "height": 283
        },
        "id": "yF7dWy-eiYww",
        "outputId": "5641d0a0-f7bb-4a37-d3ad-e7d2697910f1"
      },
      "execution_count": 47,
      "outputs": [
        {
          "output_type": "execute_result",
          "data": {
            "text/plain": [
              "<matplotlib.image.AxesImage at 0x7f09583d22d0>"
            ]
          },
          "metadata": {},
          "execution_count": 47
        },
        {
          "output_type": "display_data",
          "data": {
            "image/png": "[encoded data removed]",
            "text/plain": [
              "<Figure size 432x288 with 1 Axes>"
            ]
          },
          "metadata": {
            "needs_background": "light"
          }
        }
      ]
    },
    {
      "cell_type": "code",
      "source": [
        "classes[np.argmax(pred[102])]"
      ],
      "metadata": {
        "colab": {
          "base_uri": "https://localhost:8080/",
          "height": 35
        },
        "id": "jZa7OyDLiakx",
        "outputId": "97174dfa-42b5-4628-d7c0-a09f9417169b"
      },
      "execution_count": 50,
      "outputs": [
        {
          "output_type": "execute_result",
          "data": {
            "application/vnd.google.colaboratory.intrinsic+json": {
              "type": "string"
            },
            "text/plain": [
              "'frog'"
            ]
          },
          "metadata": {},
          "execution_count": 50
        }
      ]
    },
    {
      "cell_type": "code",
      "source": [
        "from sklearn.metrics import classification_report, confusion_matrix\n",
        "import seaborn as sns"
      ],
      "metadata": {
        "id": "EEqNfN65imtW"
      },
      "execution_count": 52,
      "outputs": []
    },
    {
      "cell_type": "code",
      "source": [
        "vd_preds = np.argmax(pred, axis=1)"
      ],
      "metadata": {
        "id": "2Ul1lfBtjk0b"
      },
      "execution_count": 55,
      "outputs": []
    },
    {
      "cell_type": "code",
      "source": [
        "print(classification_report(y_test, vd_preds))"
      ],
      "metadata": {
        "colab": {
          "base_uri": "https://localhost:8080/"
        },
        "id": "nYkgElPEi6Xv",
        "outputId": "f30ac9fe-2fda-4f0e-81ab-aece2fda9c3d"
      },
      "execution_count": 57,
      "outputs": [
        {
          "output_type": "stream",
          "name": "stdout",
          "text": [
            "              precision    recall  f1-score   support\n",
            "\n",
            "           0       0.72      0.81      0.76      1000\n",
            "           1       0.82      0.88      0.85      1000\n",
            "           2       0.64      0.66      0.65      1000\n",
            "           3       0.50      0.57      0.53      1000\n",
            "           4       0.71      0.66      0.69      1000\n",
            "           5       0.70      0.59      0.64      1000\n",
            "           6       0.84      0.79      0.81      1000\n",
            "           7       0.78      0.78      0.78      1000\n",
            "           8       0.88      0.82      0.85      1000\n",
            "           9       0.82      0.81      0.81      1000\n",
            "\n",
            "    accuracy                           0.74     10000\n",
            "   macro avg       0.74      0.74      0.74     10000\n",
            "weighted avg       0.74      0.74      0.74     10000\n",
            "\n"
          ]
        }
      ]
    },
    {
      "cell_type": "code",
      "source": [
        "sns.heatmap(confusion_matrix(y_test, vd_preds))"
      ],
      "metadata": {
        "colab": {
          "base_uri": "https://localhost:8080/",
          "height": 282
        },
        "id": "VPbeo3f1jBYj",
        "outputId": "bccd5f51-6ab9-4936-b78a-49665b8a96df"
      },
      "execution_count": 58,
      "outputs": [
        {
          "output_type": "execute_result",
          "data": {
            "text/plain": [
              "<matplotlib.axes._subplots.AxesSubplot at 0x7f08e00c8650>"
            ]
          },
          "metadata": {},
          "execution_count": 58
        },
        {
          "output_type": "display_data",
          "data": {
            "image/png": "[encoded data removed]",
            "text/plain": [
              "<Figure size 432x288 with 2 Axes>"
            ]
          },
          "metadata": {
            "needs_background": "light"
          }
        }
      ]
    },
    {
      "cell_type": "code",
      "source": [
        "confusion_matrix(y_test, vd_preds)"
      ],
      "metadata": {
        "colab": {
          "base_uri": "https://localhost:8080/"
        },
        "id": "f-68bCPcj5dp",
        "outputId": "07f2874e-e56e-4e0b-dce6-eb3042d79767"
      },
      "execution_count": 59,
      "outputs": [
        {
          "output_type": "execute_result",
          "data": {
            "text/plain": [
              "array([[807,  23,  47,  12,   9,   1,   3,  14,  60,  24],\n",
              "       [ 18, 875,   0,  10,   4,   0,   4,   3,   8,  78],\n",
              "       [ 79,   5, 659,  75,  70,  37,  31,  28,   9,   7],\n",
              "       [ 27,  12,  81, 572,  52, 146,  55,  31,   8,  16],\n",
              "       [ 33,   3,  82,  73, 664,  21,  33,  82,   5,   4],\n",
              "       [ 20,   6,  56, 220,  40, 594,  12,  40,   3,   9],\n",
              "       [  9,   5,  51,  88,  36,   9, 788,   7,   4,   3],\n",
              "       [ 16,   0,  39,  60,  47,  43,   5, 776,   0,  14],\n",
              "       [ 73,  42,  14,  18,   4,   1,   3,   6, 816,  23],\n",
              "       [ 35,  90,   5,  25,   5,   2,   6,  11,  16, 805]])"
            ]
          },
          "metadata": {},
          "execution_count": 59
        }
      ]
    },
    {
      "cell_type": "code",
      "source": [
        ""
      ],
      "metadata": {
        "id": "dRi9xw0PkIA5"
      },
      "execution_count": null,
      "outputs": []
    }
  ]
}